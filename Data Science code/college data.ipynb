{
 "cells": [
  {
   "cell_type": "code",
   "execution_count": 22,
   "id": "3c587f6c-c548-42c6-9431-4841e242689f",
   "metadata": {
    "scrolled": true
   },
   "outputs": [
    {
     "name": "stdout",
     "output_type": "stream",
     "text": [
      "{'Faulkner University': ['Faulkner University', 'PRI', 'AL', np.int64(150), np.float64(3.21), 58, np.int64(357), np.int64(40400), ''], 'Samford University': ['Samford University', 'PRI', 'AL', np.int64(155), np.float64(3.61), 56, np.int64(456), np.int64(45236), ''], 'University of Alabama': ['University of Alabama', 'PUB', 'AL', np.int64(167), np.float64(3.95), 27, np.int64(378), np.int64(24917), np.int64(46407), ''], 'Arizona State University': ['Arizona State University', 'PUB', 'AZ', np.int64(167), np.float64(3.9), 21, np.int64(597), np.int64(28839), np.int64(50317), ''], 'University of Arizona': ['University of Arizona', 'PUB', 'AZ', np.int64(163), np.float64(3.79), 29, np.int64(357), np.int64(26200), np.int64(30700), ''], 'University of Arkansas-Little Rock': ['University of Arkansas-Little Rock', 'PUB', 'AR', np.int64(152), np.float64(3.39), 59, np.int64(378), np.int64(16726), np.int64(32686), ''], 'University of Arkansas-Fayetteville': ['University of Arkansas-Fayetteville', 'PUB', 'AR', np.int64(156), np.float64(3.71), 43, np.int64(390), np.int64(17899), np.int64(39732), ''], 'Chapman University': ['Chapman University', 'PRI', 'CA', np.int64(161), np.float64(3.67), 31, np.int64(423), np.int64(61354), ''], 'Golden Gate University': ['Golden Gate University', 'PRI', 'CA', np.int64(153), np.float64(3.28), 22, np.int64(75), np.int64(52800), ''], 'Southwestern Law School': ['Southwestern Law School', 'PRI', 'CA', np.int64(155), np.float64(3.44), 50, np.int64(1053), np.int64(58537), ''], 'Stanford University': ['Stanford University', 'PRI', 'CA', np.int64(173), np.float64(3.95), 7, np.int64(522), np.int64(73713), ''], 'University of California-Berkeley': ['University of California-Berkeley', 'PUB', 'CA', np.int64(170), np.float64(3.87), 15, np.int64(1017), np.int64(62603), np.int64(75031), ''], 'University of California-Davis': ['University of California-Davis', 'PUB', 'CA', np.int64(165), np.float64(3.69), 29, np.int64(630), np.int64(54919), np.int64(67163), ''], 'University of California-Irvine': ['University of California-Irvine', 'PUB', 'CA', np.int64(167), np.float64(3.72), 18, np.int64(453), np.int64(56025), np.int64(68270), ''], 'University of California-Los Angeles': ['University of California-Los Angeles', 'PUB', 'CA', np.int64(170), np.float64(3.92), 17, np.int64(945), np.int64(56455), np.int64(68700), ''], 'University of San Francisco': ['University of San Francisco', 'PRI', 'CA', np.int64(153), np.float64(3.46), 55, np.int64(474), np.int64(54250), ''], 'Santa Clara University': ['Santa Clara University', 'PRI', 'CA', np.int64(159), np.float64(3.55), 52, np.int64(732), np.int64(59254), ''], 'University of Southern California': ['University of Southern California', 'PRI', 'CA', np.int64(169), np.float64(3.88), 13, np.int64(567), np.int64(78046), ''], 'McGeorge School of Law': ['McGeorge School of Law', 'PRI', 'CA', np.int64(155), np.float64(3.4), 61, np.int64(603), np.int64(57788), ''], 'University of Colorado': ['University of Colorado', 'PUB', 'CO', np.int64(164), np.float64(3.81), 34, np.int64(507), np.int64(34809), np.int64(42279), ''], 'University of Denver': ['University of Denver', 'PRI', 'CO', np.int64(160), np.float64(3.58), 50, np.int64(816), np.int64(59792), ''], 'Quinnipiac University': ['Quinnipiac University', 'PRI', 'CT', np.int64(153), np.float64(3.51), 58, np.int64(327), np.int64(54880), ''], 'University of Connecticut': ['University of Connecticut', 'PUB', 'CT', np.int64(160), np.float64(3.71), 29, np.int64(438), np.int64(31508), np.int64(62550), ''], 'Yale University': ['Yale University', 'PRI', 'CT', np.int64(175), np.float64(3.96), 6, np.int64(603), np.int64(73865), ''], 'American University': ['American University', 'PRI', 'DC', np.int64(162), np.float64(3.63), 36, np.int64(1224), np.int64(63088), ''], 'Catholic University of America': ['Catholic University of America', 'PRI', 'DC', np.int64(159), np.float64(3.63), 32, np.int64(342), np.int64(58916), ''], 'District of Columbia': ['District of Columbia', 'PUB', 'DC', np.int64(151), np.float64(3.27), 44, np.int64(258), np.int64(13438), np.int64(25873), ''], 'George Washington University': ['George Washington University', 'PRI', 'DC', np.int64(168), np.float64(3.85), 29, np.int64(1563), np.int64(69740), ''], 'Georgetown University': ['Georgetown University', 'PRI', 'DC', np.int64(171), np.float64(3.91), 20, np.int64(1812), np.int64(75950), ''], 'Howard University': ['Howard University', 'PRI', 'DC', np.int64(155), np.float64(3.43), 34, np.int64(531), np.int64(38612), ''], 'Barry University': ['Barry University', 'PRI', 'FL', np.int64(149), np.float64(3.24), 56, np.int64(735), np.int64(43150), ''], 'St. Thomas University (Florida)': ['St. Thomas University (Florida)', 'PRI', 'FL', np.int64(152), np.float64(3.4), 51, np.int64(714), np.int64(46200), ''], 'Florida A&M University': ['Florida A&M University', 'PUB', 'FL', np.int64(151), np.float64(3.52), 36, np.int64(372), np.int64(13855), np.int64(33115), ''], 'Florida State University': ['Florida State University', 'PUB', 'FL', np.int64(165), np.float64(3.85), 21, np.int64(417), np.int64(20683), np.int64(40715), ''], 'Nova Southeastern University': ['Nova Southeastern University', 'PRI', 'FL', np.int64(153), np.float64(3.36), 55, np.int64(648), np.int64(47729), ''], 'Stetson University': ['Stetson University', 'PRI', 'FL', np.int64(158), np.float64(3.59), 38, np.int64(915), np.int64(51708), ''], 'University of Florida': ['University of Florida', 'PUB', 'FL', np.int64(169), np.float64(3.91), 17, np.int64(543), np.int64(22194), np.int64(38430), ''], 'University of Miami': ['University of Miami', 'PRI', 'FL', np.int64(162), np.float64(3.72), 33, np.int64(1059), np.int64(63506), ''], 'Emory University': ['Emory University', 'PRI', 'GA', np.int64(166), np.float64(3.82), 41, np.int64(846), np.int64(66414), ''], 'Georgia State University': ['Georgia State University', 'PUB', 'GA', np.int64(159), np.float64(3.56), 31, np.int64(591), np.int64(17202), np.int64(36810), ''], 'Mercer University': ['Mercer University', 'PRI', 'GA', np.int64(155), np.float64(3.59), 47, np.int64(450), np.int64(43132), ''], 'University of Georgia': ['University of Georgia', 'PUB', 'GA', np.int64(169), np.float64(3.83), 15, np.int64(489), np.int64(18994), np.int64(37752), ''], 'University of Hawaii': ['University of Hawaii', 'PUB', 'HI', np.int64(157), np.float64(3.48), 29, np.int64(270), np.int64(23164), np.int64(46588), ''], 'University of Idaho': ['University of Idaho', 'PUB', 'ID', np.int64(151), np.float64(3.35), 75, np.int64(489), np.int64(25932), np.int64(45168), ''], 'Depaul University': ['Depaul University', 'PRI', 'IL', np.int64(157), np.float64(3.59), 44, np.int64(486), np.int64(52145), ''], 'Chicago-Kent College of Law-IIT': ['Chicago-Kent College of Law-IIT', 'PRI', 'IL', np.int64(159), np.float64(3.67), 50, np.int64(660), np.int64(53270), ''], 'Loyola University-Chicago': ['Loyola University-Chicago', 'PRI', 'IL', np.int64(160), np.float64(3.6), 44, np.int64(825), np.int64(55258), ''], 'Northern Illinois University': ['Northern Illinois University', 'PUB', 'IL', np.int64(150), np.float64(3.43), 54, np.int64(318), np.int64(23553), np.int64(23553), ''], 'Northwestern University': ['Northwestern University', 'PRI', 'IL', np.int64(172), np.float64(3.92), 16, np.int64(723), np.int64(74552), ''], 'Southern Illinois University-Carbondale': ['Southern Illinois University-Carbondale', 'PUB', 'IL', np.int64(149), np.float64(3.3), 60, np.int64(333), np.int64(21555), np.int64(21555), ''], 'University of Chicago': ['University of Chicago', 'PRI', 'IL', np.int64(173), np.float64(3.94), 13, np.int64(576), np.int64(77952), ''], 'University of Illinois': ['University of Illinois', 'PUB', 'IL', np.int64(165), np.float64(3.75), 44, np.int64(483), np.int64(39852), np.int64(49852), ''], 'University of Illinois Chicago School of Law': ['University of Illinois Chicago School of Law', 'PUB', 'IL', np.int64(152), np.float64(3.39), 70, np.int64(1047), np.int64(41893), np.int64(51893), ''], 'Indiana University - Bloomington': ['Indiana University - Bloomington', 'PUB', 'IN', np.int64(164), np.float64(3.86), 47, np.int64(465), np.int64(38428), np.int64(59478), ''], 'Indiana University - Indianapolis': ['Indiana University - Indianapolis', 'PUB', 'IN', np.int64(155), np.float64(3.61), 62, np.int64(747), np.int64(32535), np.int64(52599), ''], 'University of Notre Dame': ['University of Notre Dame', 'PRI', 'IN', np.int64(169), np.float64(3.83), 24, np.int64(540), np.int64(68554), ''], 'Drake University': ['Drake University', 'PRI', 'IA', np.int64(154), np.float64(3.49), 69, np.int64(339), np.int64(48410), ''], 'University of Iowa': ['University of Iowa', 'PUB', 'IA', np.int64(163), np.float64(3.76), 48, np.int64(468), np.int64(31426), np.int64(51956), ''], 'University of Kansas': ['University of Kansas', 'PUB', 'KS', np.int64(160), np.float64(3.71), 49, np.int64(345), np.int64(23402), np.int64(29739), ''], 'Washburn University': ['Washburn University', 'PUB', 'KS', np.int64(154), np.float64(3.59), 66, np.int64(312), np.int64(24584), np.int64(37240), ''], 'University of Kentucky': ['University of Kentucky', 'PUB', 'KY', np.int64(157), np.float64(3.67), 53, np.int64(468), np.int64(26232), np.int64(51380), ''], 'University of Louisville': ['University of Louisville', 'PUB', 'KY', np.int64(156), np.float64(3.68), 58, np.int64(354), np.int64(25696), np.int64(30696), ''], 'Louisiana State University': ['Louisiana State University', 'PUB', 'LA', np.int64(157), np.float64(3.65), 49, np.int64(618), np.int64(23665), np.int64(39105), ''], 'Loyola University-New Orleans': ['Loyola University-New Orleans', 'PRI', 'LA', np.int64(151), np.float64(3.37), 65, np.int64(618), np.int64(52350), ''], 'Southern University': ['Southern University', 'PUB', 'LA', np.int64(147), np.float64(3.12), 53, np.int64(711), np.int64(20182), np.int64(33782), ''], 'Tulane University': ['Tulane University', 'PRI', 'LA', np.int64(161), np.float64(3.64), 48, np.int64(615), np.int64(67780), ''], 'University of Maine': ['University of Maine', 'PUB', 'ME', np.int64(157), np.float64(3.62), 58, np.int64(267), np.int64(26940), np.int64(38762), ''], 'University of Baltimore': ['University of Baltimore', 'PUB', 'MD', np.int64(154), np.float64(3.39), 59, np.int64(678), np.int64(34980), np.int64(51014), ''], 'University of Maryland': ['University of Maryland', 'PUB', 'MD', np.int64(163), np.float64(3.76), 30, np.int64(657), np.int64(36999), np.int64(53655), ''], 'Boston College': ['Boston College', 'PRI', 'MA', np.int64(167), np.float64(3.77), 13, np.int64(639), np.int64(67113), ''], 'Boston University': ['Boston University', 'PRI', 'MA', np.int64(170), np.float64(3.86), 18, np.int64(693), np.int64(65020), ''], 'Harvard University': ['Harvard University', 'PRI', 'MA', np.int64(174), np.float64(3.93), 10, np.int64(1689), np.int64(75008), ''], 'Northeastern University': ['Northeastern University', 'PRI', 'MA', np.int64(163), np.float64(3.72), 37, np.int64(705), np.int64(60566), ''], 'University of Massachusetts Dartmouth': ['University of Massachusetts Dartmouth', 'PUB', 'MA', np.int64(150), np.float64(3.39), 67, np.int64(342), np.int64(31140), np.int64(40422), ''], 'Suffolk University': ['Suffolk University', 'PRI', 'MA', np.int64(154), np.float64(3.55), 64, np.int64(1185), np.int64(57748), ''], 'Western New England University': ['Western New England University', 'PRI', 'MA', np.int64(150), np.float64(3.3), 60, np.int64(264), np.int64(49470), ''], 'Michigan State University': ['Michigan State University', 'PUB', 'MI', np.int64(159), np.float64(3.55), 39, np.int64(633), np.int64(41424), np.int64(45984), ''], 'University of Detroit Mercy': ['University of Detroit Mercy', 'PRI', 'MI', np.int64(154), np.float64(3.46), 52, np.int64(657), np.int64(47239), ''], 'University of Michigan': ['University of Michigan', 'PUB', 'MI', np.int64(171), np.float64(3.85), 13, np.int64(906), np.int64(69584), np.int64(72584), ''], 'Wayne State University': ['Wayne State University', 'PUB', 'MI', np.int64(162), np.float64(3.83), 27, np.int64(378), np.int64(38135), np.int64(41588), ''], 'University of St. Thomas (Minnesota)': ['University of St. Thomas (Minnesota)', 'PRI', 'MN', np.int64(155), np.float64(3.62), 72, np.int64(471), np.int64(48379), ''], 'Mitchell Hamline School of Law': ['Mitchell Hamline School of Law', 'PRI', 'MN', np.int64(151), np.float64(3.26), 67, np.int64(1032), np.int64(52620), ''], 'Mississippi College': ['Mississippi College', 'PRI', 'MS', np.int64(150), np.float64(3.33), 67, np.int64(390), np.int64(38202), ''], 'University of Mississippi': ['University of Mississippi', 'PUB', 'MS', np.int64(157), np.float64(3.62), 44, np.int64(498), np.int64(18770), np.int64(39180), ''], 'Saint Louis University': ['Saint Louis University', 'PRI', 'MO', np.int64(155), np.float64(3.59), 62, np.int64(537), np.int64(48814), ''], 'University of Missouri': ['University of Missouri', 'PUB', 'MO', np.int64(160), np.float64(3.7), 52, np.int64(366), np.int64(23877), np.int64(29877), ''], 'University of Missouri-Kansas City': ['University of Missouri-Kansas City', 'PUB', 'MO', np.int64(154), np.float64(3.55), 59, np.int64(408), np.int64(23774), np.int64(24374), ''], 'Washington University': ['Washington University', 'PRI', 'MO', np.int64(173), np.float64(3.95), 17, np.int64(732), np.int64(67814), ''], 'University of Montana': ['University of Montana', 'PUB', 'MT', np.int64(154), np.float64(3.48), 71, np.int64(288), np.int64(22060), np.int64(47794), ''], 'Creighton University': ['Creighton University', 'PRI', 'NE', np.int64(152), np.float64(3.35), 71, np.int64(393), np.int64(48936), ''], 'University of Nebraska': ['University of Nebraska', 'PUB', 'NE', np.int64(158), np.float64(3.75), 66, np.int64(450), np.int64(17898), np.int64(38574), ''], 'University of Nevada - Las Vegas': ['University of Nevada - Las Vegas', 'PUB', 'NV', np.int64(160), np.float64(3.78), 34, np.int64(402), np.int64(29678), np.int64(42578), ''], 'University of New Hampshire': ['University of New Hampshire', 'PUB', 'NH', np.int64(155), np.float64(3.41), 57, np.int64(699), np.int64(40320), np.int64(48320), ''], 'Rutgers University': ['Rutgers University', 'PUB', 'NJ', np.int64(157), np.float64(3.6), 39, np.int64(1203), np.int64(32062), np.int64(46695), ''], 'Seton Hall University': ['Seton Hall University', 'PRI', 'NJ', np.int64(160), np.float64(3.66), 46, np.int64(714), np.int64(66780), ''], 'University of New Mexico': ['University of New Mexico', 'PUB', 'NM', np.int64(155), np.float64(3.61), 53, np.int64(276), np.int64(20605), np.int64(44088), ''], 'Brooklyn Law School': ['Brooklyn Law School', 'PRI', 'NY', np.int64(160), np.float64(3.56), 50, np.int64(1152), np.int64(70381), ''], 'Columbia University': ['Columbia University', 'PRI', 'NY', np.int64(173), np.float64(3.9), 12, np.int64(1245), np.int64(81292), ''], 'Cornell University': ['Cornell University', 'PRI', 'NY', np.int64(172), np.float64(3.9), 19, np.int64(573), np.int64(77593), ''], 'Fordham University': ['Fordham University', 'PRI', 'NY', np.int64(167), np.float64(3.75), 21, np.int64(1302), np.int64(72282), ''], 'Hofstra University': ['Hofstra University', 'PRI', 'NY', np.int64(156), np.float64(3.59), 50, np.int64(810), np.int64(68860), ''], 'New York Law School': ['New York Law School', 'PRI', 'NY', np.int64(156), np.float64(3.51), 53, np.int64(1044), np.int64(64824), ''], 'New York University': ['New York University', 'PRI', 'NY', np.int64(172), np.float64(3.9), 17, np.int64(1287), np.int64(80014), ''], 'Pace University': ['Pace University', 'PRI', 'NY', np.int64(152), np.float64(3.47), 53, np.int64(864), np.int64(53886), ''], \"St. John's University\": [\"St. John's University\", 'PRI', 'NY', np.int64(162), np.float64(3.71), 41, np.int64(819), np.int64(71664), ''], 'University of Buffalo-SUNY': ['University of Buffalo-SUNY', 'PUB', 'NY', np.int64(156), np.float64(3.72), 41, np.int64(423), np.int64(29248), np.int64(34238), ''], 'Syracuse University': ['Syracuse University', 'PRI', 'NY', np.int64(157), np.float64(3.58), 43, np.int64(717), np.int64(62050), ''], 'Albany Law School of Union University': ['Albany Law School of Union University', 'PRI', 'NY', np.int64(155), np.float64(3.47), 55, np.int64(570), np.int64(58234), ''], 'Cardozo School of Law': ['Cardozo School of Law', 'PRI', 'NY', np.int64(164), np.float64(3.79), 38, np.int64(954), np.int64(70646), ''], 'Campbell University': ['Campbell University', 'PRI', 'NC', np.int64(155), np.float64(3.48), 39, np.int64(552), np.int64(49730), ''], 'Duke University': ['Duke University', 'PRI', 'NC', np.int64(170), np.float64(3.87), 11, np.int64(732), np.int64(75738), ''], 'Elon University': ['Elon University', 'PRI', 'NC', np.int64(153), np.float64(3.43), 46, np.int64(510), np.int64(41667), ''], 'North Carolina Central University': ['North Carolina Central University', 'PUB', 'NC', np.int64(149), np.float64(3.35), 35, np.int64(381), np.int64(19072), np.int64(41798), ''], 'University of North Carolina': ['University of North Carolina', 'PUB', 'NC', np.int64(166), np.float64(3.78), 16, np.int64(537), np.int64(27992), np.int64(48204), ''], 'Wake Forest University': ['Wake Forest University', 'PRI', 'NC', np.int64(165), np.float64(3.79), 31, np.int64(525), np.int64(54192), ''], 'University of North Dakota': ['University of North Dakota', 'PUB', 'ND', np.int64(150), np.float64(3.37), 62, np.int64(249), np.int64(17462), np.int64(33241), ''], 'Capital University': ['Capital University', 'PRI', 'OH', np.int64(150), np.float64(3.45), 78, np.int64(456), np.int64(42875), ''], 'Case Western Reserve University': ['Case Western Reserve University', 'PRI', 'OH', np.int64(160), np.float64(3.7), 42, np.int64(489), np.int64(61124), ''], 'Cleveland State University': ['Cleveland State University', 'PUB', 'OH', np.int64(155), np.float64(3.42), 36, np.int64(450), np.int64(30042), np.int64(31142), ''], 'Ohio Northern University': ['Ohio Northern University', 'PRI', 'OH', np.int64(148), np.float64(3.4), 68, np.int64(258), np.int64(34650), ''], 'The Ohio State University': ['The Ohio State University', 'PUB', 'OH', np.int64(165), np.float64(3.83), 33, np.int64(483), np.int64(34588), np.int64(49840), ''], 'University of Akron': ['University of Akron', 'PUB', 'OH', np.int64(153), np.float64(3.52), 62, np.int64(381), np.int64(26115), np.int64(26215), ''], 'University of Cincinnati': ['University of Cincinnati', 'PUB', 'OH', np.int64(158), np.float64(3.8), 48, np.int64(381), np.int64(24810), np.int64(29810), ''], 'University of Dayton': ['University of Dayton', 'PRI', 'OH', np.int64(155), np.float64(3.61), 34, np.int64(408), np.int64(38843), ''], 'University of Toledo': ['University of Toledo', 'PUB', 'OH', np.int64(151), np.float64(3.53), 62, np.int64(321), np.int64(28226), np.int64(28426), ''], 'Oklahoma City University': ['Oklahoma City University', 'PRI', 'OK', np.int64(149), np.float64(3.36), 65, np.int64(438), np.int64(37500), ''], 'University of Oklahoma': ['University of Oklahoma', 'PUB', 'OK', np.int64(159), np.float64(3.71), 47, np.int64(498), np.int64(22614), np.int64(36759), ''], 'University of Tulsa': ['University of Tulsa', 'PRI', 'OK', np.int64(156), np.float64(3.53), 43, np.int64(243), np.int64(29864), ''], 'Lewis and Clark College': ['Lewis and Clark College', 'PRI', 'OR', np.int64(160), np.float64(3.59), 68, np.int64(477), np.int64(56346), ''], 'University of Oregon': ['University of Oregon', 'PUB', 'OR', np.int64(158), np.float64(3.52), 75, np.int64(477), np.int64(44975), np.int64(56297), ''], 'Willamette University': ['Willamette University', 'PRI', 'OR', np.int64(152), np.float64(3.26), 69, np.int64(363), np.int64(50944), ''], 'Drexel University': ['Drexel University', 'PRI', 'PA', np.int64(159), np.float64(3.7), 34, np.int64(438), np.int64(54635), ''], 'Duquesne University': ['Duquesne University', 'PRI', 'PA', np.int64(156), np.float64(3.55), 55, np.int64(510), np.int64(55500), ''], 'Widener University-Delaware': ['Widener University-Delaware', 'PRI', 'DE', np.int64(150), np.float64(3.26), 68, np.int64(720), np.int64(55003), ''], 'Widener Commonwealth': ['Widener Commonwealth', 'PRI', 'PA', np.int64(148), np.float64(3.34), 65, np.int64(447), np.int64(53670), ''], 'Pennsylvania State University-Penn State Law': ['Pennsylvania State University-Penn State Law', 'PUB', 'PA', np.int64(161), np.float64(3.77), 37, np.int64(393), np.int64(56436), np.int64(56436), ''], 'Pennsylvania State University-Dickinson School of Law': ['Pennsylvania State University-Dickinson School of Law', 'PUB', 'PA', np.int64(162), np.float64(3.63), 35, np.int64(321), np.int64(57902), np.int64(57902), ''], 'Temple University': ['Temple University', 'PUB', 'PA', np.int64(163), np.float64(3.65), 39, np.int64(639), np.int64(31053), np.int64(46949), ''], 'University of Pennsylvania': ['University of Pennsylvania', 'PRI', 'PA', np.int64(172), np.float64(3.92), 10, np.int64(744), np.int64(76934), ''], 'University of Pittsburgh': ['University of Pittsburgh', 'PUB', 'PA', np.int64(160), np.float64(3.56), 39, np.int64(357), np.int64(39681), np.int64(50697), ''], 'Villanova University': ['Villanova University', 'PRI', 'PA', np.int64(164), np.float64(3.8), 23, np.int64(483), np.int64(56225), ''], 'Roger Williams University': ['Roger Williams University', 'PRI', 'RI', np.int64(150), np.float64(3.3), 65, np.int64(444), np.int64(48034), ''], 'University of South Carolina': ['University of South Carolina', 'PUB', 'SC', np.int64(160), np.float64(3.7), 34, np.int64(612), np.int64(23722), np.int64(41500), ''], 'University of South Dakota': ['University of South Dakota', 'PUB', 'SD', np.int64(151), np.float64(3.56), 76, np.int64(258), np.int64(16793), np.int64(36333), ''], 'Belmont University': ['Belmont University', 'PRI', 'TN', np.int64(160), np.float64(3.77), 40, np.int64(345), np.int64(54380), ''], 'Lincoln Memorial University': ['Lincoln Memorial University', 'PRI', 'TN', np.int64(151), np.float64(3.49), 52, np.int64(438), np.int64(46063), ''], 'University of Memphis': ['University of Memphis', 'PUB', 'TN', np.int64(155), np.float64(3.4), 44, np.int64(225), np.int64(19960), np.int64(25262), ''], 'University of Tennessee': ['University of Tennessee', 'PUB', 'TN', np.int64(162), np.float64(3.78), 30, np.int64(426), np.int64(20408), np.int64(39152), ''], 'Vanderbilt University': ['Vanderbilt University', 'PRI', 'TN', np.int64(170), np.float64(3.89), 17, np.int64(501), np.int64(72184), ''], 'Baylor University': ['Baylor University', 'PRI', 'TX', np.int64(164), np.float64(3.73), 18, np.int64(285), np.int64(61876), ''], 'Southern Methodist University': ['Southern Methodist University', 'PRI', 'TX', np.int64(164), np.float64(3.83), 33, np.int64(570), np.int64(63502), ''], \"St. Mary's University\": [\"St. Mary's University\", 'PRI', 'TX', np.int64(152), np.float64(3.38), 36, np.int64(852), np.int64(43324), ''], 'Texas A&M University': ['Texas A&M University', 'PUB', 'TX', np.int64(166), np.float64(3.97), 15, np.int64(420), np.int64(32634), np.int64(49002), ''], 'Texas Southern University': ['Texas Southern University', 'PUB', 'TX', np.int64(150), np.float64(3.16), 40, np.int64(657), np.int64(21038), np.int64(28633), ''], 'Texas Tech University': ['Texas Tech University', 'PUB', 'TX', np.int64(158), np.float64(3.63), 38, np.int64(468), np.int64(27532), np.int64(39232), ''], 'University of Houston': ['University of Houston', 'PUB', 'TX', np.int64(161), np.float64(3.72), 32, np.int64(786), np.int64(34943), np.int64(50133), ''], 'University of Texas at Austin': ['University of Texas at Austin', 'PUB', 'TX', np.int64(171), np.float64(3.86), 15, np.int64(780), np.int64(36429), np.int64(54096), ''], 'Brigham Young University': ['Brigham Young University', 'PRI', 'UT', np.int64(168), np.float64(3.94), 29, np.int64(309), np.int64(15076), ''], 'University of Utah': ['University of Utah', 'PUB', 'UT', np.int64(164), np.float64(3.85), 30, np.int64(291), np.int64(33634), np.int64(43599), ''], 'William and Mary Law School': ['William and Mary Law School', 'PUB', 'VA', np.int64(166), np.float64(3.77), 27, np.int64(459), np.int64(43286), np.int64(66043), ''], 'University of Richmond': ['University of Richmond', 'PRI', 'VA', np.int64(164), np.float64(3.75), 41, np.int64(402), np.int64(53440), ''], 'University of Virginia': ['University of Virginia', 'PUB', 'VA', np.int64(171), np.float64(3.94), 11, np.int64(915), np.int64(71200), np.int64(74200), ''], 'George Mason University': ['George Mason University', 'PUB', 'VA', np.int64(168), np.float64(3.89), 14, np.int64(291), np.int64(26950), np.int64(42798), ''], 'Washington and Lee University': ['Washington and Lee University', 'PRI', 'VA', np.int64(165), np.float64(3.72), 31, np.int64(375), np.int64(55550), ''], 'Gonzaga University': ['Gonzaga University', 'PRI', 'WA', np.int64(154), np.float64(3.48), 62, np.int64(591), np.int64(53359), ''], 'Seattle University': ['Seattle University', 'PRI', 'WA', np.int64(157), np.float64(3.51), 52, np.int64(639), np.int64(57015), ''], 'University of Washington': ['University of Washington', 'PUB', 'WA', np.int64(164), np.float64(3.74), 35, np.int64(543), np.int64(43584), np.int64(55617), ''], 'West Virginia University': ['West Virginia University', 'PUB', 'WV', np.int64(155), np.float64(3.59), 45, np.int64(324), np.int64(26320), np.int64(43672), ''], 'Marquette University': ['Marquette University', 'PRI', 'WI', np.int64(155), np.float64(3.61), 46, np.int64(585), np.int64(49710), ''], 'University of Wisconsin': ['University of Wisconsin', 'PUB', 'WI', np.int64(165), np.float64(3.79), 36, np.int64(507), np.int64(35196), np.int64(52893), ''], 'University of Wyoming': ['University of Wyoming', 'PUB', 'WY', np.int64(154), np.float64(3.51), 55, np.int64(249), np.int64(17946), np.int64(36426), ''], 'Pontifical Catholic University of P.R.': ['Pontifical Catholic University of P.R.', 'PRI', 'PR', np.int64(138), np.float64(3.32), 40, np.int64(333), np.int64(17301), ''], 'University of Puerto Rico': ['University of Puerto Rico', 'PUB', 'PR', np.int64(148), np.float64(3.76), 42, np.int64(369), np.int64(9953), np.int64(9953), ''], 'UC College of the Law, San Francisco': ['UC College of the Law, San Francisco', 'PUB', 'CA', np.int64(160), np.float64(3.59), 31, np.int64(1137), np.int64(48273), np.int64(55207), ''], 'University of Minnesota': ['University of Minnesota', 'PUB', 'MN', np.int64(168), np.float64(3.85), 40, np.int64(654), np.int64(48964), np.int64(58396), ''], 'Inter American University of Puerto Rico': ['Inter American University of Puerto Rico', 'PRI', 'PR', np.int64(142), np.float64(3.36), 58, np.int64(549), np.int64(15635), ''], 'South Texas College of Law': ['South Texas College of Law', 'PRI', 'TX', np.int64(153), np.float64(3.36), 44, np.int64(1128), np.int64(41110), ''], 'New England Law | Boston': ['New England Law | Boston', 'PRI', 'MA', np.int64(153), np.float64(3.44), 74, np.int64(1146), np.int64(57298), ''], 'Northern Kentucky University': ['Northern Kentucky University', 'PUB', 'KY', np.int64(152), np.float64(3.38), 72, np.int64(378), np.int64(24669), np.int64(39333), ''], 'Florida International University': ['Florida International University', 'PUB', 'FL', np.int64(160), np.float64(3.74), 25, np.int64(546), np.int64(21129), np.int64(34899), ''], 'Touro University': ['Touro University', 'PRI', 'NY', np.int64(151), np.float64(3.22), 50, np.int64(522), np.int64(57810), ''], 'Pepperdine University': ['Pepperdine University', 'PRI', 'CA', np.int64(164), np.float64(3.86), 28, np.int64(546), np.int64(68046), ''], 'University of San Diego': ['University of San Diego', 'PRI', 'CA', np.int64(161), np.float64(3.8), 34, np.int64(771), np.int64(63052), ''], 'Loyola Marymount University-Los Angeles': ['Loyola Marymount University-Los Angeles', 'PRI', 'CA', np.int64(161), np.float64(3.71), 34, np.int64(963), np.int64(65912), ''], 'Vermont Law School': ['Vermont Law School', 'PRI', 'VT', np.int64(151), np.float64(3.3), 64, np.int64(603), np.int64(52650), ''], 'Thomas M. Cooley Law School': ['Thomas M. Cooley Law School', 'PRI', 'MI', np.int64(148), np.float64(3.07), 46, np.int64(438), np.int64(46240), ''], 'California Western School of Law': ['California Western School of Law', 'PRI', 'CA', np.int64(153), np.float64(3.38), 55, np.int64(678), np.int64(60430), ''], 'Liberty University': ['Liberty University', 'PRI', 'VA', np.int64(154), np.float64(3.56), 56, np.int64(324), np.int64(42891), ''], 'Western State College of Law': ['Western State College of Law', 'PRI', 'CA', np.int64(152), np.float64(3.16), 45, np.int64(363), np.int64(49848), ''], 'Regent University': ['Regent University', 'PRI', 'VA', np.int64(157), np.float64(3.68), 41, np.int64(336), np.int64(41596), ''], \"Atlanta's John Marshall Law School\": [\"Atlanta's John Marshall Law School\", 'PRI', 'GA', np.int64(150), np.float64(3.19), 47, np.int64(369), np.int64(52006), ''], 'City University of New York': ['City University of New York', 'PUB', 'NY', np.int64(153), np.float64(3.45), 40, np.int64(642), np.int64(16013), np.int64(26203), ''], 'Appalachian School of Law': ['Appalachian School of Law', 'PRI', 'VA', np.int64(146), np.float64(3.13), 54, np.int64(183), np.int64(41000), ''], 'Ave Maria School of Law': ['Ave Maria School of Law', 'PRI', 'FL', np.int64(152), np.float64(3.35), 45, np.int64(297), np.int64(49656), ''], 'Charleston School of Law': ['Charleston School of Law', 'PRI', 'SC', np.int64(153), np.float64(3.49), 53, np.int64(777), np.int64(46134), ''], 'UNT Dallas College Of Law': ['UNT Dallas College Of Law', 'PUB', 'TX', np.int64(153), np.float64(3.43), 30, np.int64(411), np.int64(18750), np.int64(31650), '']}\n"
     ]
    }
   ],
   "source": [
    "import pandas as pd\n",
    "import requests\n",
    "import csv\n",
    "\n",
    "\n",
    "# stores datasets as variables\n",
    "aid = pd.read_csv(\"DataSet Financial Aid.csv\")\n",
    "school_info = pd.read_csv(\"DataSet School Information.csv\")\n",
    "admissions = pd.read_csv(\"DataSet Admissions.csv\")\n",
    "tuition = pd.read_csv(\"DataSet Student Expenses.csv\")\n",
    "\n",
    "# drops rows in school_info whose names don't match up to the admissions dataset\n",
    "df = school_info.schoolname.isin(admissions.schoolname)\n",
    "school_info = school_info[df]\n",
    "\n",
    "# makes sure that index is being changed with each drop (recounts index)\n",
    "school_info = school_info.reset_index(drop=True)\n",
    "\n",
    "# Information that will be held about each school\n",
    "lsat = admissions.LSAT50\n",
    "gpa = admissions.UGGPA50\n",
    "name = school_info.schoolname\n",
    "acc_rate = admissions.NumOffers / admissions.NumApps\n",
    "location = school_info.SchoolState\n",
    "size = admissions.TotalFirstYear\n",
    "tuition = [tuition.FTResTuition, tuition.FTNonResTuition]\n",
    "group = school_info.SchoolType   \n",
    "description = \"\"\n",
    "\n",
    "# dictionaray that will keep info about each school\n",
    "schools = {}\n",
    "\n",
    "\"\"\"\n",
    "sets the dictionary as the nameOfUni: InfoAboutUni.\n",
    "Checks if school is public, to add OOS tution\n",
    "\"\"\"\n",
    "\n",
    "for i, n in enumerate(name):\n",
    "    schools[n] = [name[i],group[i], location[i],  lsat[i], gpa[i], round(acc_rate[i]* 100) ,\n",
    "                      size[i] * 3, tuition[0][i], description]    \n",
    "    if(schools[n][1] == 'PUB'):\n",
    "        schools[n].insert(8, tuition[1][i])"
   ]
  },
  {
   "cell_type": "code",
   "execution_count": 25,
   "id": "03ee2195-935c-49f7-af80-41a9e6d8821f",
   "metadata": {},
   "outputs": [
    {
     "data": {
      "text/plain": [
       "['Baylor University',\n",
       " 'Southern Methodist University',\n",
       " \"St. Mary's University\",\n",
       " 'Texas A&M University',\n",
       " 'Texas Southern University',\n",
       " 'Texas Tech University',\n",
       " 'University of Houston',\n",
       " 'South Texas College of Law',\n",
       " 'UNT Dallas College Of Law']"
      ]
     },
     "execution_count": 25,
     "metadata": {},
     "output_type": "execute_result"
    }
   ],
   "source": [
    "# function that returns name of school that the user has a high chance of getting into based on inputs\n",
    "def match(loc, lsat, gpa ):\n",
    "    matches = []\n",
    "    for key, value in schools.items():\n",
    "        if( lsat > value[3] + 2):\n",
    "            temp_gpa = gpa + .3\n",
    "            \n",
    "        if ( value[2] == loc and \n",
    "            value[3] <= lsat - 2  and \n",
    "            value[4] <= temp_gpa - .05\n",
    "        ):\n",
    "            matches.append(key)\n",
    "    return matches\n",
    "\n",
    "match(\"TX\", 170, 4)"
   ]
  },
  {
   "cell_type": "code",
   "execution_count": null,
   "id": "172b5947-2518-4347-bcf1-9e1cc644499c",
   "metadata": {},
   "outputs": [],
   "source": [
    "# module from GPT API\n",
    "from groq import Groq\n",
    "\n",
    "client = Groq(api_key=os.environ.get(\"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\"),)\n",
    "\n",
    "# Gets short description of school based on chat query\n",
    "for school in schools:\n",
    "    completion = client.chat.completions.create(\n",
    "        model=\"llama3-8b-8192\",\n",
    "        messages=[\n",
    "            {\n",
    "                \"role\": \"user\",\n",
    "                \"content\": \"give me a very short description of\" + school + \"law school. Make sure to just give me the content. No extra \\\"here is your description\\\"\"\n",
    "            },\n",
    "        ],\n",
    "        temperature=1,\n",
    "        max_tokens=1024,\n",
    "        top_p=1,\n",
    "        stream=True,\n",
    "        stop=None,\n",
    "    )\n",
    "\n",
    "    # Saves description in school information. Index changes based on if school has OOS tuition\n",
    "    for chunk in completion:\n",
    "        description += chunk.choices[0].delta.content or \"\"\n",
    "        if len(schools[school]) == 9:\n",
    "            schools[school][8] = description\n",
    "        else:\n",
    "            schools[school][9] = description\n",
    "    description = \"\""
   ]
  },
  {
   "cell_type": "code",
   "execution_count": 6,
   "id": "c48210d2-0ee7-4a49-b073-3952b9b0525d",
   "metadata": {},
   "outputs": [
    {
     "name": "stdout",
     "output_type": "stream",
     "text": [
      "['UNT Dallas College Of Law', 'PUB', 'Dallas, TX', np.int64(153), np.float64(3.43), np.float64(30.06), np.int64(137), np.int64(18750), np.int64(31650), '']\n"
     ]
    }
   ],
   "source": [
    "# headers of CSV file\n",
    "headers = [\n",
    "    'Name', 'Group', 'Location', 'LSAT', 'GPA', 'Acceptance Rate (%)', \n",
    "    'Size', 'Tuition', 'OOS Tuition (if PUB)', 'Description']\n",
    "\n",
    "# Creates a CSV file of school information dictionary\n",
    "with open('schools2.csv', mode='w', newline='', encoding='utf-8') as file:\n",
    "    writer = csv.writer(file)\n",
    "\n",
    "    # Write the header row\n",
    "    writer.writerow(headers)\n",
    "\n",
    "    for name, data in schools.items():\n",
    "        row = data\n",
    "\n",
    "        # Adds \"\" if school is private to avoid NULL fields.\n",
    "        if len(row) < len(headers):\n",
    "            row.insert(8,'')  # Add empty string for missing fields\n",
    "        writer.writerow(row)"
   ]
  },
  {
   "cell_type": "code",
   "execution_count": null,
   "id": "e15994f7-3b47-4d2c-a2ad-4fde668f239a",
   "metadata": {},
   "outputs": [],
   "source": [
    "import sqlite3\n",
    "\n",
    "# File paths\n",
    "csv_file = 'schools.csv'  \n",
    "db_file = 'schools2.db'    # Name of table\n",
    "\n",
    "# Creates schools.db table\n",
    "conn = sqlite3.connect(db_file)\n",
    "cursor = conn.cursor()\n",
    "\n",
    "# Creates table\n",
    "cursor.execute('''\n",
    "CREATE TABLE schools (\n",
    "    name TEXT PRIMARY KEY,\n",
    "    group_type TEXT,\n",
    "    location TEXT,\n",
    "    lsat INTEGER,\n",
    "    gpa REAL,\n",
    "    acceptance_rate REAL,\n",
    "    size INTEGER,\n",
    "    tuition INTEGER,\n",
    "    oos_tuition INTEGER,\n",
    "    description TEXT\n",
    ")\n",
    "''')\n",
    "\n",
    "\n",
    "# Open and read the CSV file\n",
    "with open(csv_file, mode='r', encoding='utf-8') as file:\n",
    "    csv_reader = csv.reader(file)\n",
    "    headers = next(csv_reader)  # Skip the header row\n",
    "\n",
    "    # Insert each row into the database\n",
    "    for row in csv_reader:\n",
    "        cursor.execute('''\n",
    "        INSERT INTO schools (name, group_type, location, lsat, gpa, acceptance_rate, size, tuition, oos_tuition, description)\n",
    "        VALUES (?, ?, ?, ?, ?, ?, ?, ?, ?, ?)\n",
    "        ''', row)\n",
    "\n",
    "# Commit the changes and close the connection\n",
    "conn.commit()\n",
    "conn.close()"
   ]
  }
 ],
 "metadata": {
  "kernelspec": {
   "display_name": "Python 3 (ipykernel)",
   "language": "python",
   "name": "python3"
  },
  "language_info": {
   "codemirror_mode": {
    "name": "ipython",
    "version": 3
   },
   "file_extension": ".py",
   "mimetype": "text/x-python",
   "name": "python",
   "nbconvert_exporter": "python",
   "pygments_lexer": "ipython3",
   "version": "3.12.4"
  }
 },
 "nbformat": 4,
 "nbformat_minor": 5
}
